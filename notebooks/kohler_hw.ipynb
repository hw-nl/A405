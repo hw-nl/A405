{
 "cells": [
  {
   "cell_type": "code",
   "execution_count": 5,
   "metadata": {
    "collapsed": true
   },
   "outputs": [],
   "source": [
    "import numpy as np\n",
    "import matplotlib.pyplot as plt\n",
    "import a405thermo.rootfinder as rf"
   ]
  },
  {
   "cell_type": "code",
   "execution_count": 8,
   "metadata": {
    "collapsed": false
   },
   "outputs": [
    {
     "data": {
      "text/plain": [
       "<matplotlib.text.Text at 0x1086a9278>"
      ]
     },
     "execution_count": 8,
     "metadata": {},
     "output_type": "execute_result"
    },
    {
     "data": {
      "image/png": "[encoded data removed]",
      "text/plain": [
       "<matplotlib.figure.Figure at 0x109c31e80>"
      ]
     },
     "metadata": {},
     "output_type": "display_data"
    }
   ],
   "source": [
    "# plotting kohler curve\n",
    "%matplotlib inline\n",
    "\n",
    "#constant\n",
    "sigma = 7.5e-2 # Nm-1\n",
    "Rv =461 # J Kg-1 K-1\n",
    "temp = 273.15 # K\n",
    "rho_l = 1\n",
    "radius = np.linspace(0.2e-6,0.6e-6,100)\n",
    "\n",
    "a = 2 * sigma /(rho_l * Rv * temp)\n",
    "\n",
    "n_s = 2.3e-18\n",
    "n_w = (rho_l*(4/3)*np.pi*radius**3)/0.018\n",
    "\n",
    "sat_ratio = (1 - (n_s/ n_w))*(np.exp(a/radius))\n",
    "\n",
    "fig,ax = plt.subplots(1,1,figsize=(6,6))\n",
    "ax.plot(radius,sat_ratio)\n",
    "ax.set_title('Kohler Curve')\n",
    "ax.set_ylabel('Saturation ratio ($\\mu m$)')\n",
    "ax.set_xlabel('Radius (meter)')"
   ]
  },
  {
   "cell_type": "code",
   "execution_count": 14,
   "metadata": {
    "collapsed": false
   },
   "outputs": [
    {
     "name": "stdout",
     "output_type": "stream",
     "text": [
      "2.1494165701149693e-07\n"
     ]
    }
   ],
   "source": [
    "# rootfinder \n",
    " \n",
    "def find_kohler(radius_guess, temp, rh):\n",
    "    \"\"\"\n",
    "    input:  radius_guess, m\n",
    "            rh, relative humidity\n",
    "            temp, K\n",
    "            \n",
    "    output: rh - rh_guess        \n",
    "    \n",
    "    \"\"\"\n",
    "    sigma = 7.5e-2 # Nm-1\n",
    "    Rv =461 # J Kg-1 K-1\n",
    "    rho_l = 1\n",
    "    ns = 2.3e-18 # mol\n",
    "    a = 2 * sigma /(rho_l * Rv * temp)\n",
    "    n_w = (rho_l*(4/3)*np.pi*(radius_guess**3))/0.018\n",
    "    rh_guess = (1 - (n_s/ n_w))*(np.exp (a/radius_guess))\n",
    "    \n",
    "    return rh - rh_guess\n",
    "\n",
    "temp = 15 + 273.15 #K\n",
    "rh = 90 * 0.01\n",
    "\n",
    "bracket = rf.find_interval(find_kohler, 0.2e-6, temp, rh)\n",
    "\n",
    "radius_15_90 = rf.fzero(find_kohler,bracket, temp, rh)\n",
    "print(radius_15_90)\n"
   ]
  }
 ],
 "metadata": {
  "kernelspec": {
   "display_name": "Python 3",
   "language": "python",
   "name": "python3"
  },
  "language_info": {
   "codemirror_mode": {
    "name": "ipython",
    "version": 3
   },
   "file_extension": ".py",
   "mimetype": "text/x-python",
   "name": "python",
   "nbconvert_exporter": "python",
   "pygments_lexer": "ipython3",
   "version": "3.5.1"
  }
 },
 "nbformat": 4,
 "nbformat_minor": 0
}
