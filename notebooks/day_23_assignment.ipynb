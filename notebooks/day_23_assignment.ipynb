{
 "cells": [
  {
   "cell_type": "code",
   "execution_count": 14,
   "metadata": {
    "collapsed": false
   },
   "outputs": [
    {
     "name": "stdout",
     "output_type": "stream",
     "text": [
      "a/r for radius 1e-6 =  0.0011279787804631821\n",
      "b/r^3 for radius 1e-6 =  9.766326053366306e-06\n",
      "ab/r^4 for radius 1e-6 =  1.1016208551281928e-08\n",
      "a/r for radius 1e-7 =  0.01127978780463182\n",
      "b/r^3 for radius 1e-7 =  0.009766326053366305\n",
      "ab/r^4 for radius 1e-6 =  0.00011016208551281927\n",
      "the smallest term we kept and the biggest term we drop have about 2-3 magnitude of difference\n"
     ]
    }
   ],
   "source": [
    "from a405thermo.constants import constants as c\n",
    "Tinit=c.Tc + 15 #Temperature K\n",
    "Sinit=0.9 #e/es\n",
    "Ms=132 #ammonium sulphae kg/Kmole\n",
    "Mw=18. #water kg/Kmole\n",
    "Sigma=0.075  #N/m\n",
    "vanHoff=3. #van hoff for ammonium bisulphate\n",
    "#calculate kohler coefficients:\n",
    "a=(2.*Sigma)/(c.Rv*Tinit*c.rhol)  #curvature term\n",
    "mass_aero = 1.e-19  #kg\n",
    "b=(vanHoff*Mw)/((4./3.)*np.pi*c.rhol*Ms)*mass_aero   #solution term\n",
    "rcrit = (3*b/a)**0.5  #critical radius\n",
    "\n",
    "rad1  = 1e-6\n",
    "rad0_1= 0.1e-6\n",
    "\n",
    "aterm1 = a/rad1\n",
    "bterm1 = b/(rad1**3)\n",
    "aterm0_1 = a/rad0_1\n",
    "bterm0_1 = b/(rad0_1**3)\n",
    "abterm1 = a*b/rad1**4\n",
    "abterm0_1 = a*b/rad0_1**4\n",
    "\n",
    "print ('a/r for radius 1e-6 = ', aterm1)\n",
    "print ('b/r^3 for radius 1e-6 = ',bterm1)\n",
    "print ('ab/r^4 for radius 1e-6 = ',abterm1)\n",
    "\n",
    "print ('a/r for radius 1e-7 = ',aterm0_1)\n",
    "print ('b/r^3 for radius 1e-7 = ',bterm0_1)\n",
    "print ('ab/r^4 for radius 1e-6 = ',abterm0_1)\n",
    "print ('The smallest term we kept and the biggest term we drop have about 2-3\\ \n",
    "       magnitude of difference. But as the radius decrease ab/r^4 become significant')\n"
   ]
  },
  {
   "cell_type": "code",
   "execution_count": null,
   "metadata": {
    "collapsed": true
   },
   "outputs": [],
   "source": []
  }
 ],
 "metadata": {
  "kernelspec": {
   "display_name": "Python 3",
   "language": "python",
   "name": "python3"
  },
  "language_info": {
   "codemirror_mode": {
    "name": "ipython",
    "version": 3
   },
   "file_extension": ".py",
   "mimetype": "text/x-python",
   "name": "python",
   "nbconvert_exporter": "python",
   "pygments_lexer": "ipython3",
   "version": "3.5.1"
  }
 },
 "nbformat": 4,
 "nbformat_minor": 0
}
