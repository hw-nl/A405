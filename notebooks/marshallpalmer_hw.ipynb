{
 "cells": [
  {
   "cell_type": "code",
   "execution_count": null,
   "metadata": {
    "collapsed": false
   },
   "outputs": [],
   "source": [
    "import numpy as np\n",
    "from matplotlib import pyplot as plt\n",
    "plt.style.use('ggplot')\n",
    "%matplotlib inline\n",
    "\n",
    "D=np.arange(0,5,0.1)\n",
    "Dmm=D\n",
    "Dcm=D*0.1\n",
    "N0=0.08*1.e6*1.e-1 #m**{-3} mm^{-1}\n",
    "R=1.\n",
    "theLambda=41*R**(-0.21)\n",
    "curve1=N0*np.exp(-theLambda*Dcm)\n",
    "R=5.\n",
    "theLambda=41*R**(-0.21)\n",
    "curve2=N0*np.exp(-theLambda*Dcm)\n",
    "R=25.\n",
    "theLambda=41*R**(-0.21)\n",
    "curve3=N0*np.exp(-theLambda*Dcm)\n",
    "fig, ax = plt.subplots(1,1,figsize=(10,8))\n",
    "ax.semilogy(D,curve1,label='1 mm/hr')\n",
    "ax.semilogy(D,curve2,'r-',label='5 mm/hr')\n",
    "ax.semilogy(D,curve3,'g-',label='25 mm/hr')\n",
    "ax.set_xlabel('Drop diameter (mm)')\n",
    "ax.set_ylabel('$n(D) m^{-3} mm^{-1}$')\n",
    "ax.set_title('Marshall Palmer distribution for three rain rates')\n",
    "ax.legend(loc='best')"
   ]
  },
  {
   "cell_type": "code",
   "execution_count": 4,
   "metadata": {
    "collapsed": false
   },
   "outputs": [
    {
     "name": "stdout",
     "output_type": "stream",
     "text": [
      "1/lambda = 0.04307202672562568\n",
      "mean diameter = 0.04306747725911213\n",
      "Fall speed for 15mm/h = 15.482953816631268\n"
     ]
    }
   ],
   "source": [
    "grav = 9.8 # m/s^2\n",
    "rho_l = 1000 # kg/m^3\n",
    "rho_air = 1.225 # kg/m^3\n",
    "D = np.arange(0,5,0.0000001)\n",
    "Dmm=D\n",
    "Dcm=D*0.1\n",
    "N0=0.08*1.e6*1.e-1 #m**{-3} mm^{-1}\n",
    "R15 = 15 # mm/hr\n",
    "theLambda15=41*R15**(-0.21)\n",
    "curve15 = N0*np.exp(-theLambda15*Dcm)\n",
    "rhol = 1000\n",
    "rhoa = 1.225\n",
    "\n",
    "def find_fallspeed (curve):\n",
    "    \"\"\"\n",
    "    input: curve\n",
    "    output: fallspeed\n",
    "    \"\"\"\n",
    "    \n",
    "    wfall = np.sqrt(rhol/rhoa*9.81*Dcm)\n",
    "    rfall = (np.sum(curve[:-1]/1000*(np.pi*Dcm[:-1]**3/6)*wfall[:-1]*np.diff(Dcm)))*10000/2\n",
    "    return rfall\n",
    "\n",
    "fallspeed15 = find_fallspeed(curve15)\n",
    "diameter = np.sum(Dcm[:-1]*curve15[:-1]*np.diff(Dcm))/np.sum(curve15[:-1]*np.diff(Dcm))\n",
    "print(\"1/lambda = {}\".format(1/theLambda15))\n",
    "print(\"mean diameter = {}\".format(diameter))\n",
    "\n",
    "print(\"Fall speed for 15mm/h = {}\".format(fallspeed15))\n",
    "\n"
   ]
  }
 ],
 "metadata": {
  "kernelspec": {
   "display_name": "Python 3",
   "language": "python",
   "name": "python3"
  }
 },
 "nbformat": 4,
 "nbformat_minor": 0
}
