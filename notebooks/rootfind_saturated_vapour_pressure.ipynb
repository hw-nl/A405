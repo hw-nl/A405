{
 "cells": [
  {
   "cell_type": "code",
   "execution_count": 28,
   "metadata": {
    "collapsed": false
   },
   "outputs": [
    {
     "name": "stdout",
     "output_type": "stream",
     "text": [
      "6.107592083296499\n",
      "7.05411600792086\n",
      "8.128262376691485\n",
      "9.344542881989897\n",
      "10.718787739281021\n",
      "12.268230861560664\n",
      "14.011597546590329\n",
      "15.969194534349857\n",
      "18.16300227741743\n",
      "20.61676925271952\n",
      "6.11\n",
      "7.05599699867\n",
      "8.12952528039\n",
      "9.34514197028\n",
      "10.7187481055\n",
      "12.2676803866\n",
      "14.0108065155\n",
      "15.9686240854\n",
      "18.1633629767\n",
      "20.6190912053\n"
     ]
    },
    {
     "name": "stderr",
     "output_type": "stream",
     "text": [
      "/Users/wonghugo/miniconda3/lib/python3.5/site-packages/ipykernel/__main__.py:29: RuntimeWarning: divide by zero encountered in log\n"
     ]
    }
   ],
   "source": [
    "import numpy as np\n",
    "from scipy import optimize\n",
    "\n",
    "Rv = 461.5 #specific gas constant for water vapour J kg-1 K-1\n",
    "Rd = 287 # J kg-1 K-1\n",
    "lv0 = 2.501e6 #J kg-1\n",
    "Tempp = 273.16 #K triple point temp\n",
    "es0 = 6.11e2 #Pa\n",
    "cpv = 1870 #J kg−1 K−1\n",
    "cl = 4187 #J kg−1 K−1\n",
    "Temp0 = 273.15 #K\n",
    "\n",
    "def calc_lv(temp):\n",
    "    \n",
    "    lv = (cpv - cl)*(temp - Temp0) + lv0\n",
    "    return(lv)\n",
    "\n",
    "def calc_phil(temp):\n",
    "    phil = cl* np.log(temp/Tempp)\n",
    "    return phil\n",
    "\n",
    "def root_function (esat_guess, temp, lv , phil):\n",
    "    \"\"\"\n",
    "    Function we want to find the root of\n",
    "    input: temp_guess (K), temp (K),lv (J kg-1), phil (J kg^-1 K^-1)\n",
    "    output: difference between guess and target -- should be zero when x is a root\n",
    "    \"\"\"\n",
    "    phi0 = lv0/Tempp\n",
    "    phivs = (cpv * np.log(temp/Temp0)) - (Rv * np.log (esat_guess/es0)) + phi0\n",
    "    temp_guess = lv/ (phivs -phil)\n",
    "    return temp - temp_guess\n",
    "\n",
    "def function_rootfind_esat(temp):\n",
    "    left=0\n",
    "    right=10000\n",
    "    lv = calc_lv(temp)\n",
    "    phil = calc_phil(temp)\n",
    "    esat = optimize.zeros.brentq(root_function,left,right,args=(temp, lv, phil))\n",
    "    return esat\n",
    "\n",
    "\n",
    "for temp in np.arange(273.15,293.15,2):\n",
    "    \n",
    "    es_calc = (function_rootfind_esat(temp)/100)\n",
    "    print (es_calc)\n",
    " \n",
    "    \n",
    "#Thompkins\n",
    "def es(t):\n",
    "    es = es0/100 * np.exp (17.67*t/(t + 243.5))\n",
    "    return es\n",
    "\n",
    "for T2 in np.arange(0,20,2):\n",
    "    print (es(T2))\n",
    "    "
   ]
  }
 ],
 "metadata": {
  "kernelspec": {
   "display_name": "Python 3",
   "language": "python",
   "name": "python3"
  },
  "language_info": {
   "codemirror_mode": {
    "name": "ipython",
    "version": 3
   },
   "file_extension": ".py",
   "mimetype": "text/x-python",
   "name": "python",
   "nbconvert_exporter": "python",
   "pygments_lexer": "ipython3",
   "version": "3.5.1"
  }
 },
 "nbformat": 4,
 "nbformat_minor": 0
}
